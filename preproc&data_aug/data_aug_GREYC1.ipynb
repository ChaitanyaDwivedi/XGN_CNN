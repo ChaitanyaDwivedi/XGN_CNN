{
 "cells": [
  {
   "cell_type": "code",
   "execution_count": 124,
   "metadata": {},
   "outputs": [],
   "source": [
    "import numpy as np\n",
    "import pickle\n",
    "from operator import itemgetter"
   ]
  },
  {
   "cell_type": "code",
   "execution_count": 125,
   "metadata": {},
   "outputs": [],
   "source": [
    "data = pickle.load(open('/Users/chaitanya/Documents/python/keystrokes/keystrokes3/cnnNN/greyc1/PCA_GREYC_2X.pickle','rb'))"
   ]
  },
  {
   "cell_type": "code",
   "execution_count": 126,
   "metadata": {},
   "outputs": [
    {
     "data": {
      "text/plain": [
       "(6747,)"
      ]
     },
     "execution_count": 126,
     "metadata": {},
     "output_type": "execute_result"
    }
   ],
   "source": [
    "vector= data['features']\n",
    "classes = data['labels']\n",
    "np.shape(classes)"
   ]
  },
  {
   "cell_type": "code",
   "execution_count": 127,
   "metadata": {},
   "outputs": [],
   "source": [
    "ordered_dict ={}\n",
    "for i in range(max(classes)+1):\n",
    "    ordered_dict[i+1]= []\n",
    "    for x in range(len(classes)):\n",
    "        if classes[x]==i+1:\n",
    "            ordered_dict[i+1].append(vector[x])"
   ]
  },
  {
   "cell_type": "code",
   "execution_count": 128,
   "metadata": {},
   "outputs": [],
   "source": [
    "del ordered_dict[101]\n"
   ]
  },
  {
   "cell_type": "code",
   "execution_count": 129,
   "metadata": {},
   "outputs": [],
   "source": [
    "def data_gen(xdict, generation_factor, num_points=0, features=0):\n",
    "    for i in xdict.keys():\n",
    "        num_points = np.shape(xdict[i])[0]\n",
    "        print(num_points)\n",
    "        features = np.shape(xdict[i])[1]\n",
    "        print(features)\n",
    "        li_vectors = np.reshape(xdict[i],(num_points,features))\n",
    "        new_vectors = np.zeros((int(num_points*(generation_factor+1)),features))\n",
    "        for x in range(features):\n",
    "            new_vectors[:,x] = new_points(li_vectors[:,x], generation_factor)\n",
    "        xdict[i] = new_vectors\n",
    "    return xdict"
   ]
  },
  {
   "cell_type": "code",
   "execution_count": 132,
   "metadata": {},
   "outputs": [],
   "source": [
    "def new_points(xlist,generation_factor):\n",
    "    mean = np.mean(xlist)\n",
    "    std = np.std(xlist)\n",
    "    trunc_factor = 0.5\n",
    "    synthetic_data = np.random.uniform((mean - std*trunc_factor), (mean + std*trunc_factor), int(generation_factor*len(xlist)))\n",
    "    return np.append(xlist, synthetic_data)"
   ]
  },
  {
   "cell_type": "code",
   "execution_count": 133,
   "metadata": {},
   "outputs": [],
   "source": [
    "def onehot(x,numlabels):\n",
    "    t = [0 for i in range(numlabels)]\n",
    "    t[x-1] = 1\n",
    "    return t"
   ]
  },
  {
   "cell_type": "code",
   "execution_count": 134,
   "metadata": {},
   "outputs": [
    {
     "name": "stdout",
     "output_type": "stream",
     "text": [
      "107\n",
      "28\n",
      "93\n",
      "28\n",
      "98\n",
      "28\n",
      "72\n",
      "28\n",
      "86\n",
      "28\n",
      "72\n",
      "28\n",
      "84\n",
      "28\n",
      "59\n",
      "28\n",
      "62\n",
      "28\n",
      "72\n",
      "28\n",
      "72\n",
      "28\n",
      "73\n",
      "28\n",
      "59\n",
      "28\n",
      "60\n",
      "28\n",
      "60\n",
      "28\n",
      "60\n",
      "28\n",
      "63\n",
      "28\n",
      "60\n",
      "28\n",
      "61\n",
      "28\n",
      "60\n",
      "28\n",
      "60\n",
      "28\n",
      "72\n",
      "28\n",
      "72\n",
      "28\n",
      "88\n",
      "28\n",
      "73\n",
      "28\n",
      "60\n",
      "28\n",
      "60\n",
      "28\n",
      "61\n",
      "28\n",
      "60\n",
      "28\n",
      "60\n",
      "28\n",
      "73\n",
      "28\n",
      "72\n",
      "28\n",
      "72\n",
      "28\n",
      "72\n",
      "28\n",
      "72\n",
      "28\n",
      "72\n",
      "28\n",
      "72\n",
      "28\n",
      "73\n",
      "28\n",
      "72\n",
      "28\n",
      "60\n",
      "28\n",
      "74\n",
      "28\n",
      "73\n",
      "28\n",
      "72\n",
      "28\n",
      "72\n",
      "28\n",
      "72\n",
      "28\n",
      "74\n",
      "28\n",
      "60\n",
      "28\n",
      "60\n",
      "28\n",
      "72\n",
      "28\n",
      "60\n",
      "28\n",
      "60\n",
      "28\n",
      "60\n",
      "28\n",
      "60\n",
      "28\n",
      "84\n",
      "28\n",
      "72\n",
      "28\n",
      "72\n",
      "28\n",
      "60\n",
      "28\n",
      "72\n",
      "28\n",
      "60\n",
      "28\n",
      "60\n",
      "28\n",
      "60\n",
      "28\n",
      "60\n",
      "28\n",
      "72\n",
      "28\n",
      "60\n",
      "28\n",
      "72\n",
      "28\n",
      "72\n",
      "28\n",
      "61\n",
      "28\n",
      "84\n",
      "28\n",
      "60\n",
      "28\n",
      "60\n",
      "28\n",
      "72\n",
      "28\n",
      "60\n",
      "28\n",
      "75\n",
      "28\n",
      "60\n",
      "28\n",
      "60\n",
      "28\n",
      "60\n",
      "28\n",
      "60\n",
      "28\n",
      "62\n",
      "28\n",
      "72\n",
      "28\n",
      "60\n",
      "28\n",
      "72\n",
      "28\n",
      "60\n",
      "28\n",
      "72\n",
      "28\n",
      "60\n",
      "28\n",
      "84\n",
      "28\n",
      "72\n",
      "28\n",
      "60\n",
      "28\n",
      "72\n",
      "28\n",
      "60\n",
      "28\n",
      "60\n",
      "28\n",
      "72\n",
      "28\n",
      "60\n",
      "28\n",
      "60\n",
      "28\n",
      "61\n",
      "28\n",
      "60\n",
      "28\n",
      "60\n",
      "28\n",
      "62\n",
      "28\n",
      "58\n",
      "28\n",
      "60\n",
      "28\n",
      "62\n",
      "28\n"
     ]
    }
   ],
   "source": [
    "test = data_gen(ordered_dict, 1.2,0,0)"
   ]
  },
  {
   "cell_type": "code",
   "execution_count": 135,
   "metadata": {},
   "outputs": [
    {
     "data": {
      "text/plain": [
       "(235, 28)"
      ]
     },
     "execution_count": 135,
     "metadata": {},
     "output_type": "execute_result"
    }
   ],
   "source": [
    "np.shape(test[1])"
   ]
  },
  {
   "cell_type": "code",
   "execution_count": 136,
   "metadata": {},
   "outputs": [],
   "source": [
    "final_dict = {}\n",
    "final_dict['classes'] = []\n",
    "final_dict['data'] = []\n",
    "final_dict['labels'] = []\n",
    "for i in test.keys():\n",
    "    for row in test[i]:\n",
    "        final_dict['classes'].append(i)\n",
    "        final_dict['data'].append(row)\n",
    "        final_dict['labels'].append(onehot(i,100))"
   ]
  },
  {
   "cell_type": "code",
   "execution_count": 138,
   "metadata": {},
   "outputs": [],
   "source": [
    "pickle.dump(final_dict, open('PCA_GREYC_2X.pickle','wb'))"
   ]
  },
  {
   "cell_type": "code",
   "execution_count": 139,
   "metadata": {},
   "outputs": [
    {
     "data": {
      "text/plain": [
       "array([-4.73084907e+00,  2.95269356e-01, -6.11415929e-01, -4.28988830e-01,\n",
       "       -5.43085855e-01, -4.77305998e-01,  8.66831428e-01, -4.69077402e-03,\n",
       "        4.15252713e-01, -5.61836442e-02,  1.33056774e-02, -7.25857825e-01,\n",
       "        2.83767511e-01,  2.50457215e-01, -1.92024859e-01,  6.48817185e-01,\n",
       "       -4.54668180e-01,  3.48334184e-01,  2.12340031e-01,  2.51877350e-01,\n",
       "        5.16093974e-02, -1.19143691e-01, -3.03732109e-03,  1.05386577e-01,\n",
       "       -1.87127972e-01, -1.99883006e-01, -1.26656182e-01,  4.07768507e-02])"
      ]
     },
     "execution_count": 139,
     "metadata": {},
     "output_type": "execute_result"
    }
   ],
   "source": [
    "final_dict['data'][1]"
   ]
  },
  {
   "cell_type": "code",
   "execution_count": null,
   "metadata": {},
   "outputs": [],
   "source": []
  }
 ],
 "metadata": {
  "kernelspec": {
   "display_name": "Python 3",
   "language": "python",
   "name": "python3"
  },
  "language_info": {
   "codemirror_mode": {
    "name": "ipython",
    "version": 3
   },
   "file_extension": ".py",
   "mimetype": "text/x-python",
   "name": "python",
   "nbconvert_exporter": "python",
   "pygments_lexer": "ipython3",
   "version": "3.6.5"
  }
 },
 "nbformat": 4,
 "nbformat_minor": 2
}
