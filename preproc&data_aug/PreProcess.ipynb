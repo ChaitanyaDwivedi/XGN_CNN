{
 "cells": [
  {
   "cell_type": "code",
   "execution_count": 104,
   "metadata": {},
   "outputs": [],
   "source": [
    "import sklearn\n",
    "import numpy as np\n",
    "import pickle\n",
    "from sklearn import preprocessing\n"
   ]
  },
  {
   "cell_type": "code",
   "execution_count": 105,
   "metadata": {},
   "outputs": [],
   "source": [
    "data = pickle.load(open('CMU2X_dat.pickle','rb'))"
   ]
  },
  {
   "cell_type": "code",
   "execution_count": 113,
   "metadata": {},
   "outputs": [],
   "source": []
  },
  {
   "cell_type": "code",
   "execution_count": 114,
   "metadata": {},
   "outputs": [],
   "source": [
    "def zero_center(li, num_points, features):\n",
    "    li = np.reshape(li, (num_points,features))\n",
    "    for x in range(31):\n",
    "        li[:,x] = preprocessing.scale(li[:,x])\n",
    "    return li    "
   ]
  },
  {
   "cell_type": "code",
   "execution_count": 115,
   "metadata": {},
   "outputs": [],
   "source": [
    "def normalisation(li,num_points,features):\n",
    "    li = np.reshape(li, (num_points,features))\n",
    "    li_normalised = preprocessing.normalize(li,norm='l2')\n",
    "    return li_normalised\n",
    "\n",
    "def onehot(x,numlabels):\n",
    "    t = [0 for i in range(numlabels)]\n",
    "    t[x] = 1\n",
    "    return t"
   ]
  },
  {
   "cell_type": "code",
   "execution_count": 116,
   "metadata": {},
   "outputs": [],
   "source": [
    "new_dict={}\n",
    "for x in old_dict.keys():\n",
    "    new_dict[x] = []\n",
    "    #new_dict[x] = zero_center(old_dict[x],1200,31)\n",
    "    new_dict[x] = normalisation(old_dict[x],1200,31)\n",
    "    "
   ]
  },
  {
   "cell_type": "code",
   "execution_count": 117,
   "metadata": {},
   "outputs": [],
   "source": [
    "vector = data['data']\n",
    "classes = data['classes']\n",
    "old_dict ={}\n",
    "for i in range(max(classes)+1):\n",
    "    old_dict[i]= []\n",
    "    for x in range(len(classes)):\n",
    "        if classes[x]==i:\n",
    "            old_dict[i].append(vector[x])\n",
    "\n",
    "final_dict = {}\n",
    "final_dict['classes'] = []\n",
    "final_dict['data'] = []\n",
    "final_dict['labels'] = []\n",
    "for i in new_dict.keys():\n",
    "    for row in new_dict[i]:\n",
    "        final_dict['classes'].append(i)\n",
    "        final_dict['data'].append(row)\n",
    "        final_dict['labels'].append(onehot(i,51))"
   ]
  },
  {
   "cell_type": "code",
   "execution_count": 118,
   "metadata": {},
   "outputs": [],
   "source": [
    "pickle.dump(final_dict,open('CMU_normalised_2x.pickle','wb'))"
   ]
  },
  {
   "cell_type": "code",
   "execution_count": 112,
   "metadata": {},
   "outputs": [],
   "source": []
  },
  {
   "cell_type": "code",
   "execution_count": null,
   "metadata": {},
   "outputs": [],
   "source": []
  }
 ],
 "metadata": {
  "kernelspec": {
   "display_name": "Python 3",
   "language": "python",
   "name": "python3"
  },
  "language_info": {
   "codemirror_mode": {
    "name": "ipython",
    "version": 3
   },
   "file_extension": ".py",
   "mimetype": "text/x-python",
   "name": "python",
   "nbconvert_exporter": "python",
   "pygments_lexer": "ipython3",
   "version": "3.5.2"
  }
 },
 "nbformat": 4,
 "nbformat_minor": 2
}
