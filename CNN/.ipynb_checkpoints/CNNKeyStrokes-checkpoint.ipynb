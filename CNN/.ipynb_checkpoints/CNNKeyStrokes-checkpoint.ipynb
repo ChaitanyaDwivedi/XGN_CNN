{
 "cells": [
  {
   "cell_type": "code",
   "execution_count": 2,
   "metadata": {},
   "outputs": [
    {
     "name": "stderr",
     "output_type": "stream",
     "text": [
      "/Library/Frameworks/Python.framework/Versions/3.5/lib/python3.5/importlib/_bootstrap.py:222: RuntimeWarning: compiletime version 3.6 of module 'tensorflow.python.framework.fast_tensor_util' does not match runtime version 3.5\n",
      "  return f(*args, **kwds)\n",
      "/Library/Frameworks/Python.framework/Versions/3.5/lib/python3.5/site-packages/h5py/__init__.py:36: FutureWarning: Conversion of the second argument of issubdtype from `float` to `np.floating` is deprecated. In future, it will be treated as `np.float64 == np.dtype(float).type`.\n",
      "  from ._conv import register_converters as _register_converters\n"
     ]
    }
   ],
   "source": [
    "import pickle\n",
    "from loadData import dataLoader\n",
    "import tensorflow as tf\n",
    "from CalculateEER import SKGetEER as GetEER"
   ]
  },
  {
   "cell_type": "code",
   "execution_count": 4,
   "metadata": {},
   "outputs": [
    {
     "name": "stdout",
     "output_type": "stream",
     "text": [
      "Loading Data...\n",
      "Dividing Data...\n",
      "14280 3060 3060\n",
      "Divided data.\n",
      "(20400, 1, 31, 1) (20400, 51)\n",
      "(14280, 1, 31, 1) (3060, 1, 31, 1) (3060, 1, 31, 1)\n"
     ]
    }
   ],
   "source": [
    "data = pickle.load(open(\"./Data/dataBenchmarkTf.pickle\", \"rb\"))\n",
    "\n",
    "X = data['data']\n",
    "Y = data['lables']\n",
    "X = X.reshape(20400, 1, 31, 1)\n",
    "\n",
    "data['data'] = X\n",
    "pickle.dump(data, open(\"./Data/cnnkeystroke.pickle\", \"wb\"))\n",
    "\n",
    "data = dataLoader(\"./Data/cnnkeystroke.pickle\")\n",
    "print(data.data.shape, data.data_labels.shape)\n",
    "print(data.train.shape, data.test.shape, data.valid.shape)"
   ]
  },
  {
   "cell_type": "code",
   "execution_count": 5,
   "metadata": {},
   "outputs": [
    {
     "name": "stdout",
     "output_type": "stream",
     "text": [
      "(?, 1, 8, 64)\n"
     ]
    }
   ],
   "source": [
    "inp = tf.placeholder(tf.float32, shape=[None, 1, 31, 1])\n",
    "out = tf.placeholder(tf.float32, shape = [None, 51])\n",
    "\n",
    "\n",
    "def weight_variable(shape):\n",
    "    initial = tf.truncated_normal(shape, stddev=0.1)\n",
    "    return tf.Variable(initial)\n",
    "\n",
    "\n",
    "def bias_variable(shape):\n",
    "    initial = tf.constant(0.1, shape=shape)\n",
    "    return tf.Variable(initial)\n",
    "\n",
    "\n",
    "def conv2d(x, W):\n",
    "    return tf.nn.conv2d(x, W, strides=[1, 1, 1, 1], padding='SAME')\n",
    "\n",
    "\n",
    "def max_pool_2x2(x):\n",
    "    return tf.nn.max_pool(x, ksize=[1, 2, 2, 1], strides=[1, 2, 2, 1], padding='SAME')\n",
    "\n",
    "W_conv1 = weight_variable([1, 5, 1, 32])\n",
    "b_conv1 = bias_variable([32])\n",
    "\n",
    "h_conv1 = tf.nn.relu(conv2d(inp, W_conv1) + b_conv1)\n",
    "h_pool1 = max_pool_2x2(h_conv1)\n",
    "\n",
    "W_conv2 = weight_variable([1, 5, 32, 64])\n",
    "b_conv2 = bias_variable([64])\n",
    "\n",
    "h_conv2 = tf.nn.relu(conv2d(h_pool1, W_conv2) + b_conv2)\n",
    "h_pool2 = max_pool_2x2(h_conv2)\n",
    "\n",
    "print(h_pool2.shape)\n",
    "W_fc1 = weight_variable([1 * 8 * 64, 1024])\n",
    "b_fc1 = bias_variable([1024])\n",
    "\n",
    "h_pool2_flat = tf.reshape(h_pool2, [-1, 1*8*64])\n",
    "h_fc1 = tf.nn.relu(tf.matmul(h_pool2_flat, W_fc1) + b_fc1)\n",
    "\n",
    "keep_prob = tf.placeholder(tf.float32)\n",
    "h_fc1_drop = tf.nn.dropout(h_fc1, keep_prob)\n",
    "\n",
    "W_fc2 = weight_variable([1024, 51])\n",
    "b_fc2 = bias_variable([51])\n",
    "\n",
    "y_conv = tf.matmul(h_fc1_drop, W_fc2) + b_fc2\n",
    "y_ = tf.nn.softmax(y_conv)\n",
    "\n",
    "cross_entropy = tf.reduce_mean(tf.nn.softmax_cross_entropy_with_logits_v2(labels=out, logits=y_conv))\n",
    "train_step = tf.train.AdamOptimizer(1e-4).minimize(cross_entropy)\n",
    "correct_prediction = tf.equal(tf.argmax(y_conv, 1), tf.argmax(out, 1))\n",
    "accuracy = tf.reduce_mean(tf.cast(correct_prediction, tf.float32))"
   ]
  },
  {
   "cell_type": "code",
   "execution_count": 6,
   "metadata": {},
   "outputs": [
    {
     "name": "stdout",
     "output_type": "stream",
     "text": [
      "0 0 0.046875 0.024509804 0.023202615 0.481951871657754 0.48096192384769537\n",
      "0 50 0.0703125 0.056862745 0.050326798 0.3370110330992979 0.34082522643408253\n"
     ]
    }
   ],
   "source": [
    "with tf.Session() as sess:\n",
    "    try:\n",
    "        sess.run(tf.global_variables_initializer())\n",
    "        batchSize = 128\n",
    "        for epoch in range(500):\n",
    "            j = -1\n",
    "            i = 0\n",
    "            while i < data.train.shape[0]:\n",
    "                j += 1\n",
    "                batch = data.train[i: i + batchSize]\n",
    "                batch_labels = data.train_labels[i: i + batchSize]\n",
    "                i = i + batchSize\n",
    "                #print(batch.shape)\n",
    "                train_step.run(feed_dict={inp: batch, out: batch_labels, keep_prob: 0.5})\n",
    "                if not j%50:\n",
    "                    train_accuracy = accuracy.eval(feed_dict={inp: batch, out: batch_labels, keep_prob: 1.0})\n",
    "                    train_out = sess.run(y_, feed_dict={inp: batch, out: batch_labels, keep_prob: 1.0})\n",
    "                    valid_accuracy = accuracy.eval(feed_dict={inp: data.valid, out: data.valid_labels, keep_prob: 1.0})\n",
    "                    valid_out = sess.run(y_, feed_dict={inp: data.valid, out: data.valid_labels, keep_prob: 1.0})\n",
    "                    #print(valid_out[0])\n",
    "                    test_accuracy = accuracy.eval(feed_dict={inp: data.test, out: data.test_labels, keep_prob: 1.0})\n",
    "                    test_out = sess.run(y_, feed_dict={inp: data.test, out: data.test_labels, keep_prob: 1.0})\n",
    "                    TEER = GetEER(test_out, data.test_labels)\n",
    "                    VEER = GetEER(valid_out, data.valid_labels)\n",
    "                    print(epoch, j, train_accuracy, valid_accuracy, test_accuracy, VEER, TEER)\n",
    "    except:\n",
    "        d = {}\n",
    "        d['cnn'] = sess.run(y_, feed_dict={inp: data.data, out: data.data_labels, keep_prob: 1.0})\n",
    "        d['y'] = data.data_labels\n",
    "        pickle.dump(d, open(\"./Data/CNNOutput.pickle\", \"wb\"))\n"
   ]
  },
  {
   "cell_type": "code",
   "execution_count": null,
   "metadata": {},
   "outputs": [],
   "source": []
  }
 ],
 "metadata": {
  "kernelspec": {
   "display_name": "Python 3",
   "language": "python",
   "name": "python3"
  },
  "language_info": {
   "codemirror_mode": {
    "name": "ipython",
    "version": 3
   },
   "file_extension": ".py",
   "mimetype": "text/x-python",
   "name": "python",
   "nbconvert_exporter": "python",
   "pygments_lexer": "ipython3",
   "version": "3.6.5"
  }
 },
 "nbformat": 4,
 "nbformat_minor": 2
}
